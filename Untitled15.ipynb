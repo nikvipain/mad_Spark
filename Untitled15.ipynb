{
  "nbformat": 4,
  "nbformat_minor": 0,
  "metadata": {
    "colab": {
      "provenance": []
    },
    "kernelspec": {
      "name": "python3",
      "display_name": "Python 3"
    },
    "language_info": {
      "name": "python"
    }
  },
  "cells": [
    {
      "cell_type": "code",
      "source": [
        "# Установка Java\n",
        "!apt-get install openjdk-8-jdk-headless -qq > /dev/null\n",
        "\n",
        "# Загрузка Spark\n",
        "!wget -q https://downloads.apache.org/spark/spark-3.5.0/spark-3.5.0-bin-hadoop3.tgz\n",
        "\n",
        "# Распаковка Spark\n",
        "!tar xf spark-3.5.0-bin-hadoop3.tgz\n",
        "\n",
        "# Установка PySpark\n",
        "!pip install -q findspark"
      ],
      "metadata": {
        "colab": {
          "base_uri": "https://localhost:8080/"
        },
        "id": "6sD-DqYlk_di",
        "outputId": "4c1671f5-93b2-452a-b683-22255518c39b"
      },
      "execution_count": 78,
      "outputs": [
        {
          "output_type": "stream",
          "name": "stdout",
          "text": [
            "tar: spark-3.5.0-bin-hadoop3.tgz: Cannot open: No such file or directory\n",
            "tar: Error is not recoverable: exiting now\n"
          ]
        }
      ]
    },
    {
      "cell_type": "code",
      "execution_count": 79,
      "metadata": {
        "colab": {
          "base_uri": "https://localhost:8080/"
        },
        "id": "sCFYJ5njjBSQ",
        "outputId": "9dfbaeac-68c7-4ad4-d8fb-d0ae73b06c63"
      },
      "outputs": [
        {
          "output_type": "stream",
          "name": "stdout",
          "text": [
            "Spark version: 3.5.3\n"
          ]
        }
      ],
      "source": [
        "import findspark\n",
        "\n",
        "findspark.init()\n",
        "\n",
        "from pyspark.sql import SparkSession\n",
        "\n",
        "# Создание Spark-сессии\n",
        "spark = SparkSession.builder \\\n",
        "    .appName(\"Google Colab Spark Example\") \\\n",
        "    .config(\"spark.driver.memory\", \"2g\") \\\n",
        "    .getOrCreate()\n",
        "\n",
        "# Проверка\n",
        "print(\"Spark version:\", spark.version)"
      ]
    },
    {
      "cell_type": "code",
      "source": [
        "# Зарегистрируем каждую таблицу для выполнения SQL-запросов\n",
        "for table_name, df in dfs.items():\n",
        "    df.createOrReplaceTempView(table_name)"
      ],
      "metadata": {
        "id": "XkhJSS78wrrz"
      },
      "execution_count": null,
      "outputs": []
    },
    {
      "cell_type": "markdown",
      "source": [
        "# Информация о dim_branches"
      ],
      "metadata": {
        "id": "0LrIz7WuxBks"
      }
    },
    {
      "cell_type": "code",
      "source": [
        "script = \"\"\"\n",
        "select *\n",
        "from dim_branches\n",
        "\"\"\""
      ],
      "metadata": {
        "id": "k1BWZjHzxTWc"
      },
      "execution_count": 80,
      "outputs": []
    },
    {
      "cell_type": "code",
      "source": [
        "spark.sql(script).printSchema()"
      ],
      "metadata": {
        "colab": {
          "base_uri": "https://localhost:8080/"
        },
        "id": "6BxRqER0wuvk",
        "outputId": "60d33d6c-05a1-4fef-9f17-b45607ac0e46"
      },
      "execution_count": null,
      "outputs": [
        {
          "output_type": "stream",
          "name": "stdout",
          "text": [
            "root\n",
            " |-- Branch_ID: integer (nullable = true)\n",
            " |-- City: string (nullable = true)\n",
            "\n"
          ]
        }
      ]
    },
    {
      "cell_type": "code",
      "source": [
        "spark.sql(script).show(10)"
      ],
      "metadata": {
        "colab": {
          "base_uri": "https://localhost:8080/"
        },
        "id": "XXdQpEiEwKHt",
        "outputId": "1c18f8d6-740d-4e90-baea-6a07e41d66ab"
      },
      "execution_count": 81,
      "outputs": [
        {
          "output_type": "execute_result",
          "data": {
            "text/plain": [
              "DataFrame[Branch_ID: int, City: string]"
            ]
          },
          "metadata": {},
          "execution_count": 81
        }
      ]
    },
    {
      "cell_type": "markdown",
      "source": [
        "# Информация о dim_employees"
      ],
      "metadata": {
        "id": "bdRfH9FkxH9D"
      }
    },
    {
      "cell_type": "code",
      "source": [
        "script = \"\"\"\n",
        "select *\n",
        "from dim_employees\n",
        "\"\"\""
      ],
      "metadata": {
        "id": "mLE4iOJ9xPz3"
      },
      "execution_count": null,
      "outputs": []
    },
    {
      "cell_type": "code",
      "source": [
        "spark.sql(script).printSchema()"
      ],
      "metadata": {
        "colab": {
          "base_uri": "https://localhost:8080/"
        },
        "id": "1l3KjwC0xQCa",
        "outputId": "4e766e97-bb4c-46cc-fdeb-482896382969"
      },
      "execution_count": null,
      "outputs": [
        {
          "output_type": "stream",
          "name": "stdout",
          "text": [
            "root\n",
            " |-- Employee_ID: integer (nullable = true)\n",
            " |-- Full_Name: string (nullable = true)\n",
            " |-- Position: string (nullable = true)\n",
            " |-- Hire_Date: date (nullable = true)\n",
            " |-- Department: string (nullable = true)\n",
            " |-- Branch_ID: integer (nullable = true)\n",
            "\n"
          ]
        }
      ]
    },
    {
      "cell_type": "code",
      "source": [
        "spark.sql(script).show(10, False)"
      ],
      "metadata": {
        "colab": {
          "base_uri": "https://localhost:8080/"
        },
        "id": "FXEc5HrqxZbd",
        "outputId": "99c71ee5-d405-4411-d91b-d196ad2ccb03"
      },
      "execution_count": null,
      "outputs": [
        {
          "output_type": "stream",
          "name": "stdout",
          "text": [
            "+-----------+-----------+----------+----------+----------+---------+\n",
            "|Employee_ID|Full_Name  |Position  |Hire_Date |Department|Branch_ID|\n",
            "+-----------+-----------+----------+----------+----------+---------+\n",
            "|8270       |Employee_1 |Consultant|2015-01-01|IT        |103      |\n",
            "|1860       |Employee_2 |Manager   |2015-01-08|Operations|103      |\n",
            "|6390       |Employee_3 |Consultant|2015-01-15|Sales     |102      |\n",
            "|6191       |Employee_4 |Analyst   |2015-01-22|HR        |101      |\n",
            "|6734       |Employee_5 |Analyst   |2015-01-29|Operations|104      |\n",
            "|7265       |Employee_6 |Technician|2015-02-05|Sales     |103      |\n",
            "|1466       |Employee_7 |Clerk     |2015-02-12|Finance   |103      |\n",
            "|5426       |Employee_8 |Technician|2015-02-19|HR        |101      |\n",
            "|6578       |Employee_9 |Consultant|2015-02-26|Sales     |103      |\n",
            "|9322       |Employee_10|Manager   |2015-03-05|Sales     |104      |\n",
            "+-----------+-----------+----------+----------+----------+---------+\n",
            "only showing top 10 rows\n",
            "\n"
          ]
        }
      ]
    },
    {
      "cell_type": "markdown",
      "source": [
        "# Инфо dim_periods"
      ],
      "metadata": {
        "id": "50rms89KxuC5"
      }
    },
    {
      "cell_type": "code",
      "source": [
        "script = \"\"\"\n",
        "select *\n",
        "from dim_periods\n",
        "\"\"\""
      ],
      "metadata": {
        "id": "E7Rm67Owxyp3"
      },
      "execution_count": null,
      "outputs": []
    },
    {
      "cell_type": "code",
      "source": [
        "spark.sql(script).printSchema()"
      ],
      "metadata": {
        "colab": {
          "base_uri": "https://localhost:8080/"
        },
        "id": "4MZYaH1yx2Tp",
        "outputId": "b66b24ee-eebf-49de-8af4-f87c8c284c6e"
      },
      "execution_count": null,
      "outputs": [
        {
          "output_type": "stream",
          "name": "stdout",
          "text": [
            "root\n",
            " |-- Period: timestamp (nullable = true)\n",
            " |-- Month: integer (nullable = true)\n",
            " |-- Year: integer (nullable = true)\n",
            " |-- Quarter: integer (nullable = true)\n",
            "\n"
          ]
        }
      ]
    },
    {
      "cell_type": "code",
      "source": [
        "spark.sql(script).show(3, 100, True)"
      ],
      "metadata": {
        "colab": {
          "base_uri": "https://localhost:8080/"
        },
        "id": "Ay-2sHV2x5VO",
        "outputId": "eb16abdb-d0ae-4f7b-c8c8-15869be40bfa"
      },
      "execution_count": null,
      "outputs": [
        {
          "output_type": "stream",
          "name": "stdout",
          "text": [
            "-RECORD 0----------------------\n",
            " Period  | 2024-01-01 00:00:00 \n",
            " Month   | 1                   \n",
            " Year    | 2024                \n",
            " Quarter | 1                   \n",
            "-RECORD 1----------------------\n",
            " Period  | 2024-02-01 00:00:00 \n",
            " Month   | 2                   \n",
            " Year    | 2024                \n",
            " Quarter | 1                   \n",
            "-RECORD 2----------------------\n",
            " Period  | 2024-03-01 00:00:00 \n",
            " Month   | 3                   \n",
            " Year    | 2024                \n",
            " Quarter | 1                   \n",
            "only showing top 3 rows\n",
            "\n"
          ]
        }
      ]
    },
    {
      "cell_type": "markdown",
      "source": [
        "# Инфо fact_table"
      ],
      "metadata": {
        "id": "FSxFwcuRy8tv"
      }
    },
    {
      "cell_type": "code",
      "source": [
        "script = \"\"\"\n",
        "select *\n",
        "from fact_table\n",
        "\"\"\""
      ],
      "metadata": {
        "id": "Ba60vx1fzA5R"
      },
      "execution_count": null,
      "outputs": []
    },
    {
      "cell_type": "code",
      "source": [
        "spark.sql(script).printSchema()"
      ],
      "metadata": {
        "colab": {
          "base_uri": "https://localhost:8080/"
        },
        "id": "9NgVN62QzBAP",
        "outputId": "813f6178-baf9-4fc0-fb39-73209a2faeb9"
      },
      "execution_count": null,
      "outputs": [
        {
          "output_type": "stream",
          "name": "stdout",
          "text": [
            "root\n",
            " |-- Payroll_ID: integer (nullable = true)\n",
            " |-- Employee_ID: integer (nullable = true)\n",
            " |-- Period: timestamp (nullable = true)\n",
            " |-- Gross_Amount: double (nullable = true)\n",
            " |-- Tax_Amount: double (nullable = true)\n",
            " |-- Other_Deductions: double (nullable = true)\n",
            " |-- Net_Amount: double (nullable = true)\n",
            " |-- Payment_Date: date (nullable = true)\n",
            " |-- Branch_ID: integer (nullable = true)\n",
            "\n"
          ]
        }
      ]
    },
    {
      "cell_type": "code",
      "source": [
        "spark.sql(script).show()"
      ],
      "metadata": {
        "colab": {
          "base_uri": "https://localhost:8080/"
        },
        "id": "TWqfQepRzIUL",
        "outputId": "ad9d28a9-83af-4e7b-8f36-9bf1eeb938b0"
      },
      "execution_count": null,
      "outputs": [
        {
          "output_type": "stream",
          "name": "stdout",
          "text": [
            "+----------+-----------+-------------------+------------+----------+----------------+------------------+------------+---------+\n",
            "|Payroll_ID|Employee_ID|             Period|Gross_Amount|Tax_Amount|Other_Deductions|        Net_Amount|Payment_Date|Branch_ID|\n",
            "+----------+-----------+-------------------+------------+----------+----------------+------------------+------------+---------+\n",
            "|         1|       8270|2024-01-01 00:00:00|     2888.73|   1484.61|          149.57|1254.5500000000002|  2024-01-31|      103|\n",
            "|         2|       1860|2024-02-01 00:00:00|     3833.27|     903.3|          101.87|2828.1000000000004|  2024-02-29|      103|\n",
            "|         3|       6390|2024-03-01 00:00:00|     3334.14|   1365.15|          217.48|1751.5099999999998|  2024-03-31|      102|\n",
            "|         4|       6191|2024-04-01 00:00:00|     7628.41|   1456.39|          121.76| 6050.259999999999|  2024-04-30|      101|\n",
            "|         5|       6734|2024-05-01 00:00:00|     6403.52|   1299.49|          204.77|           4899.26|  2024-05-31|      104|\n",
            "|         6|       7265|2024-06-01 00:00:00|     6907.33|    870.51|          186.83|           5849.99|  2024-06-30|      103|\n",
            "|         7|       1466|2024-07-01 00:00:00|     6082.51|   1121.12|          233.96|           4727.43|  2024-07-31|      103|\n",
            "|         8|       5426|2024-08-01 00:00:00|     3306.42|    992.74|           184.9|           2128.78|  2024-08-31|      101|\n",
            "|         9|       6578|2024-09-01 00:00:00|     4213.22|    728.89|          183.53|            3300.8|  2024-09-30|      103|\n",
            "|        10|       9322|2024-10-01 00:00:00|     5734.06|   1097.31|          236.59|           4400.16|  2024-10-31|      104|\n",
            "|        11|       2685|2024-11-01 00:00:00|     3166.81|    646.29|          216.75|           2303.77|  2024-11-30|      102|\n",
            "|        12|       1769|2024-12-01 00:00:00|      6069.5|    1356.3|          215.81| 4497.389999999999|  2024-12-31|      103|\n",
            "|        13|       7949|2025-01-01 00:00:00|     4639.51|    860.61|          223.46|           3555.44|  2025-01-31|      104|\n",
            "|        14|       3433|2025-02-01 00:00:00|     4437.77|   1060.35|          123.22|3254.2000000000007|  2025-02-28|      103|\n",
            "|        15|       6311|2025-03-01 00:00:00|     6066.44|   1084.99|          237.84|           4743.61|  2025-03-31|      101|\n",
            "|        16|       6051|2025-04-01 00:00:00|     5666.39|    922.33|          230.62|4513.4400000000005|  2025-04-30|      103|\n",
            "|        17|       7420|2025-05-01 00:00:00|     4458.55|   1176.01|          149.17|           3133.37|  2025-05-31|      103|\n",
            "|        18|       2184|2025-06-01 00:00:00|     6738.99|    857.53|           187.8|           5693.66|  2025-06-30|      102|\n",
            "|        19|       5555|2025-07-01 00:00:00|     3378.41|   1261.39|          198.03|1918.9899999999996|  2025-07-31|      101|\n",
            "|        20|       4385|2025-08-01 00:00:00|      5923.9|    596.21|          193.28|           5134.41|  2025-08-31|      101|\n",
            "+----------+-----------+-------------------+------------+----------+----------------+------------------+------------+---------+\n",
            "only showing top 20 rows\n",
            "\n"
          ]
        }
      ]
    },
    {
      "cell_type": "markdown",
      "source": [
        "# Пример, когда удобнее смотреть данные по вертикали"
      ],
      "metadata": {
        "id": "29Rk8AcczN6u"
      }
    },
    {
      "cell_type": "code",
      "source": [
        "script = \"\"\"\n",
        "select *\n",
        "from fact_table t1\n",
        "left join dim_periods t2\n",
        "on t1.period = t2.period\n",
        "\"\"\"\n",
        "spark.sql(script)"
      ],
      "metadata": {
        "colab": {
          "base_uri": "https://localhost:8080/"
        },
        "id": "G0ICnEo2zUSh",
        "outputId": "e1d38689-4e13-4017-cca6-0c0f86ce861d"
      },
      "execution_count": null,
      "outputs": [
        {
          "output_type": "execute_result",
          "data": {
            "text/plain": [
              "DataFrame[Payroll_ID: int, Employee_ID: int, Period: timestamp, Gross_Amount: double, Tax_Amount: double, Other_Deductions: double, Net_Amount: double, Payment_Date: date, Branch_ID: int, Period: timestamp, Month: int, Year: int, Quarter: int]"
            ]
          },
          "metadata": {},
          "execution_count": 50
        }
      ]
    },
    {
      "cell_type": "code",
      "source": [
        "script = \"\"\"\n",
        "select t1.Payroll_ID,\n",
        "       t1.Employee_ID,\n",
        "       t1.Period,\n",
        "       t1.Gross_Amount,\n",
        "       t1.Tax_Amount,\n",
        "       t1.Other_Deductions,\n",
        "       t1.Net_Amount,\n",
        "       t1.Payment_Date,\n",
        "       t1.Branch_ID,\n",
        "       t2.Month,\n",
        "       t2.Year,\n",
        "       t2.Quarter\n",
        "from fact_table t1\n",
        "left join dim_periods t2\n",
        "on t1.period = t2.period\n",
        "\n",
        "\"\"\"\n",
        "parquet = spark.sql(script)"
      ],
      "metadata": {
        "id": "PZ0uz1uh1Rrt"
      },
      "execution_count": 82,
      "outputs": []
    },
    {
      "cell_type": "code",
      "source": [
        "spark.sql(script).show()"
      ],
      "metadata": {
        "colab": {
          "base_uri": "https://localhost:8080/"
        },
        "id": "-lpF2CXL0KTO",
        "outputId": "6c8796f4-9cdd-4ff8-ac4c-a9c4dc0b4066"
      },
      "execution_count": null,
      "outputs": [
        {
          "output_type": "stream",
          "name": "stdout",
          "text": [
            "+----------+-----------+-------------------+------------+----------+----------------+------------------+------------+---------+-----+----+-------+\n",
            "|Payroll_ID|Employee_ID|             Period|Gross_Amount|Tax_Amount|Other_Deductions|        Net_Amount|Payment_Date|Branch_ID|Month|Year|Quarter|\n",
            "+----------+-----------+-------------------+------------+----------+----------------+------------------+------------+---------+-----+----+-------+\n",
            "|         1|       8270|2024-01-01 00:00:00|     2888.73|   1484.61|          149.57|1254.5500000000002|  2024-01-31|      103|    1|2024|      1|\n",
            "|         2|       1860|2024-02-01 00:00:00|     3833.27|     903.3|          101.87|2828.1000000000004|  2024-02-29|      103|    2|2024|      1|\n",
            "|         3|       6390|2024-03-01 00:00:00|     3334.14|   1365.15|          217.48|1751.5099999999998|  2024-03-31|      102|    3|2024|      1|\n",
            "|         4|       6191|2024-04-01 00:00:00|     7628.41|   1456.39|          121.76| 6050.259999999999|  2024-04-30|      101|    4|2024|      2|\n",
            "|         5|       6734|2024-05-01 00:00:00|     6403.52|   1299.49|          204.77|           4899.26|  2024-05-31|      104|    5|2024|      2|\n",
            "|         6|       7265|2024-06-01 00:00:00|     6907.33|    870.51|          186.83|           5849.99|  2024-06-30|      103|    6|2024|      2|\n",
            "|         7|       1466|2024-07-01 00:00:00|     6082.51|   1121.12|          233.96|           4727.43|  2024-07-31|      103|    7|2024|      3|\n",
            "|         8|       5426|2024-08-01 00:00:00|     3306.42|    992.74|           184.9|           2128.78|  2024-08-31|      101|    8|2024|      3|\n",
            "|         9|       6578|2024-09-01 00:00:00|     4213.22|    728.89|          183.53|            3300.8|  2024-09-30|      103|    9|2024|      3|\n",
            "|        10|       9322|2024-10-01 00:00:00|     5734.06|   1097.31|          236.59|           4400.16|  2024-10-31|      104|   10|2024|      4|\n",
            "|        11|       2685|2024-11-01 00:00:00|     3166.81|    646.29|          216.75|           2303.77|  2024-11-30|      102|   11|2024|      4|\n",
            "|        12|       1769|2024-12-01 00:00:00|      6069.5|    1356.3|          215.81| 4497.389999999999|  2024-12-31|      103|   12|2024|      4|\n",
            "|        13|       7949|2025-01-01 00:00:00|     4639.51|    860.61|          223.46|           3555.44|  2025-01-31|      104|    1|2025|      1|\n",
            "|        14|       3433|2025-02-01 00:00:00|     4437.77|   1060.35|          123.22|3254.2000000000007|  2025-02-28|      103|    2|2025|      1|\n",
            "|        15|       6311|2025-03-01 00:00:00|     6066.44|   1084.99|          237.84|           4743.61|  2025-03-31|      101|    3|2025|      1|\n",
            "|        16|       6051|2025-04-01 00:00:00|     5666.39|    922.33|          230.62|4513.4400000000005|  2025-04-30|      103|    4|2025|      2|\n",
            "|        17|       7420|2025-05-01 00:00:00|     4458.55|   1176.01|          149.17|           3133.37|  2025-05-31|      103|    5|2025|      2|\n",
            "|        18|       2184|2025-06-01 00:00:00|     6738.99|    857.53|           187.8|           5693.66|  2025-06-30|      102|    6|2025|      2|\n",
            "|        19|       5555|2025-07-01 00:00:00|     3378.41|   1261.39|          198.03|1918.9899999999996|  2025-07-31|      101|    7|2025|      3|\n",
            "|        20|       4385|2025-08-01 00:00:00|      5923.9|    596.21|          193.28|           5134.41|  2025-08-31|      101|    8|2025|      3|\n",
            "+----------+-----------+-------------------+------------+----------+----------------+------------------+------------+---------+-----+----+-------+\n",
            "only showing top 20 rows\n",
            "\n"
          ]
        }
      ]
    },
    {
      "cell_type": "code",
      "source": [
        "parquet.write.mode(\"overwrite\").parquet(\"test.parquet\")"
      ],
      "metadata": {
        "id": "sXPNS35MLa2S"
      },
      "execution_count": 83,
      "outputs": []
    },
    {
      "cell_type": "code",
      "source": [
        "parquet.repartition(10).write.mode(\"overwrite\").parquet(\"test.parquet\")"
      ],
      "metadata": {
        "id": "ECtdVKeZN8DL"
      },
      "execution_count": 85,
      "outputs": []
    },
    {
      "cell_type": "code",
      "source": [
        "df = spark.read.parquet(\"test.parquet\")\n",
        "df.show(1, 100, True)"
      ],
      "metadata": {
        "colab": {
          "base_uri": "https://localhost:8080/"
        },
        "id": "pOlGO1uAPAd2",
        "outputId": "80136d3b-50e5-4504-a855-b26c8cdb2a0c"
      },
      "execution_count": 84,
      "outputs": [
        {
          "output_type": "stream",
          "name": "stdout",
          "text": [
            "-RECORD 0-------------------------------\n",
            " Payroll_ID       | 1                   \n",
            " Employee_ID      | 8270                \n",
            " Period           | 2024-01-01 00:00:00 \n",
            " Gross_Amount     | 2888.73             \n",
            " Tax_Amount       | 1484.61             \n",
            " Other_Deductions | 149.57              \n",
            " Net_Amount       | 1254.5500000000002  \n",
            " Payment_Date     | 2024-01-31          \n",
            " Branch_ID        | 103                 \n",
            " Month            | 1                   \n",
            " Year             | 2024                \n",
            " Quarter          | 1                   \n",
            "only showing top 1 row\n",
            "\n"
          ]
        }
      ]
    },
    {
      "cell_type": "code",
      "source": [
        "map = '/content/test.parquet'"
      ],
      "metadata": {
        "id": "aExqbEv8gacN"
      },
      "execution_count": null,
      "outputs": []
    },
    {
      "cell_type": "code",
      "source": [
        "parquet = spark.read.parquet(map)"
      ],
      "metadata": {
        "id": "KrwZcrn4ghpa"
      },
      "execution_count": null,
      "outputs": []
    },
    {
      "cell_type": "code",
      "source": [
        "parquet.createOrReplaceTempView(\"test_data\")"
      ],
      "metadata": {
        "id": "qLoaechOghuC"
      },
      "execution_count": null,
      "outputs": []
    },
    {
      "cell_type": "code",
      "source": [
        "\n",
        "\n",
        "script = \"\"\"\n",
        "SELECT *\n",
        "FROM test_data\n",
        "\"\"\"\n",
        "\n",
        "spark.sql(script).show()"
      ],
      "metadata": {
        "colab": {
          "base_uri": "https://localhost:8080/"
        },
        "id": "EgYLk5BOh4Mv",
        "outputId": "64c10ebe-c732-4e62-d87f-7252109d8bec"
      },
      "execution_count": null,
      "outputs": [
        {
          "output_type": "stream",
          "name": "stdout",
          "text": [
            "+----------+-----------+-------------------+------------+----------+----------------+------------------+------------+---------+-----+----+-------+\n",
            "|Payroll_ID|Employee_ID|             Period|Gross_Amount|Tax_Amount|Other_Deductions|        Net_Amount|Payment_Date|Branch_ID|Month|Year|Quarter|\n",
            "+----------+-----------+-------------------+------------+----------+----------------+------------------+------------+---------+-----+----+-------+\n",
            "|       114|       8035|2033-06-01 00:00:00|     5688.77|    774.35|          135.19|4779.2300000000005|  2033-06-30|      104|    6|2033|      2|\n",
            "|       215|       1262|2041-11-01 00:00:00|     5885.98|    857.85|          180.75| 4847.379999999999|  2041-11-30|      103|   11|2041|      4|\n",
            "|       220|       5548|2042-04-01 00:00:00|     6753.94|    967.12|          210.77| 5576.049999999999|  2042-04-30|      102|    4|2042|      2|\n",
            "|       295|       1569|2048-07-01 00:00:00|     4939.76|    941.53|          108.97|3889.2600000000007|  2048-07-31|      102|    7|2048|      3|\n",
            "|       247|       5911|2044-07-01 00:00:00|     6610.45|    406.21|          164.06| 6040.179999999999|  2044-07-31|      104|    7|2044|      3|\n",
            "|       903|       3116|2099-03-01 00:00:00|      2577.3|   1439.25|           158.4| 979.6500000000002|  2099-03-31|      102|    3|2099|      1|\n",
            "|       202|       9680|2040-10-01 00:00:00|     7691.84|   1418.71|          154.52|           6118.61|  2040-10-31|      104|   10|2040|      4|\n",
            "|       112|       6977|2033-04-01 00:00:00|     6621.17|    562.73|           182.4| 5876.040000000001|  2033-04-30|      102|    4|2033|      2|\n",
            "|       458|       3914|2062-02-01 00:00:00|     5632.88|   1005.88|          198.12|           4428.88|  2062-02-28|      104|    2|2062|      1|\n",
            "|       655|       7949|2078-07-01 00:00:00|     3185.46|   1208.66|          145.39|1831.4099999999999|  2078-07-31|      102|    7|2078|      3|\n",
            "|       561|       3703|2070-09-01 00:00:00|     3794.49|    636.65|          135.98|3021.8599999999997|  2070-09-30|      103|    9|2070|      3|\n",
            "|       198|       9338|2040-06-01 00:00:00|     3802.55|    935.52|          222.92|           2644.11|  2040-06-30|      104|    6|2040|      2|\n",
            "|        94|       9392|2031-10-01 00:00:00|      7656.2|    947.23|          222.74|           6486.23|  2031-10-31|      103|   10|2031|      4|\n",
            "|       771|       2761|2088-03-01 00:00:00|     5599.53|    849.11|          234.77|           4515.65|  2088-03-31|      104|    3|2088|      1|\n",
            "|       950|       2625|2103-02-01 00:00:00|     3997.78|   1423.14|          202.35|2372.2900000000004|  2103-02-28|      101|    2|2103|      1|\n",
            "|       766|       7891|2087-10-01 00:00:00|     6102.32|    518.03|          214.64|           5369.65|  2087-10-31|      103|   10|2087|      4|\n",
            "|        76|       8208|2030-04-01 00:00:00|     2890.01|   1300.31|          189.78|1399.9200000000003|  2030-04-30|      101|    4|2030|      2|\n",
            "|       520|       4141|2067-04-01 00:00:00|     5479.67|    591.05|          169.12|            4719.5|  2067-04-30|      102|    4|2067|      2|\n",
            "|       132|       4157|2034-12-01 00:00:00|     4536.24|    524.76|          111.19|3900.2899999999995|  2034-12-31|      104|   12|2034|      4|\n",
            "|       420|       8723|2058-12-01 00:00:00|     5077.92|    658.35|          220.98|           4198.59|  2058-12-31|      101|   12|2058|      4|\n",
            "+----------+-----------+-------------------+------------+----------+----------------+------------------+------------+---------+-----+----+-------+\n",
            "only showing top 20 rows\n",
            "\n"
          ]
        }
      ]
    },
    {
      "cell_type": "code",
      "source": [
        "spark.sql(script).show(1, 10, True)"
      ],
      "metadata": {
        "id": "K9TYelBR1b2u",
        "colab": {
          "base_uri": "https://localhost:8080/"
        },
        "outputId": "3456ddfe-ba06-46c1-d9ec-0ca9e328a2a9"
      },
      "execution_count": null,
      "outputs": [
        {
          "output_type": "stream",
          "name": "stdout",
          "text": [
            "-RECORD 0----------------------\n",
            " Payroll_ID       | 114        \n",
            " Employee_ID      | 8035       \n",
            " Period           | 2033-06... \n",
            " Gross_Amount     | 5688.77    \n",
            " Tax_Amount       | 774.35     \n",
            " Other_Deductions | 135.19     \n",
            " Net_Amount       | 4779.23... \n",
            " Payment_Date     | 2033-06-30 \n",
            " Branch_ID        | 104        \n",
            " Month            | 6          \n",
            " Year             | 2033       \n",
            " Quarter          | 2          \n",
            "only showing top 1 row\n",
            "\n"
          ]
        }
      ]
    },
    {
      "cell_type": "code",
      "source": [
        "spark.sql(script).show(1, 100, True)"
      ],
      "metadata": {
        "id": "98DuQts_1kIq",
        "colab": {
          "base_uri": "https://localhost:8080/"
        },
        "outputId": "95ecb98a-c406-45b3-8107-1b616d6f52da"
      },
      "execution_count": null,
      "outputs": [
        {
          "output_type": "stream",
          "name": "stdout",
          "text": [
            "-RECORD 0-------------------------------\n",
            " Payroll_ID       | 114                 \n",
            " Employee_ID      | 8035                \n",
            " Period           | 2033-06-01 00:00:00 \n",
            " Gross_Amount     | 5688.77             \n",
            " Tax_Amount       | 774.35              \n",
            " Other_Deductions | 135.19              \n",
            " Net_Amount       | 4779.2300000000005  \n",
            " Payment_Date     | 2033-06-30          \n",
            " Branch_ID        | 104                 \n",
            " Month            | 6                   \n",
            " Year             | 2033                \n",
            " Quarter          | 2                   \n",
            "only showing top 1 row\n",
            "\n"
          ]
        }
      ]
    },
    {
      "cell_type": "markdown",
      "source": [
        "# Задачи"
      ],
      "metadata": {
        "id": "HfxipAbV3jqA"
      }
    },
    {
      "cell_type": "markdown",
      "source": [
        "Проанализировать годовые расходы на заработные платы в компании."
      ],
      "metadata": {
        "id": "XVsYeRRn0f2-"
      }
    },
    {
      "cell_type": "code",
      "source": [
        "script = \"\"\"\n",
        "select t2.year, sum(t1.net_amount) as total_salary\n",
        "from fact_table t1\n",
        "join dim_periods t2\n",
        "on t1.period = t2.period\n",
        "group by t2.year\n",
        "order by t2.year\n",
        "\"\"\"\n",
        "spark.sql(script).show()"
      ],
      "metadata": {
        "id": "jwnY8GpX2BQm",
        "colab": {
          "base_uri": "https://localhost:8080/"
        },
        "outputId": "40b403e9-5a6a-4b79-b391-10b0627ce130"
      },
      "execution_count": null,
      "outputs": [
        {
          "output_type": "stream",
          "name": "stdout",
          "text": [
            "+----+------------------+\n",
            "|year|      total_salary|\n",
            "+----+------------------+\n",
            "|2024| 43991.99999999999|\n",
            "|2025|          45992.07|\n",
            "|2026|          41105.85|\n",
            "|2027|44759.380000000005|\n",
            "|2028|          38897.87|\n",
            "|2029|47715.509999999995|\n",
            "|2030|          41663.87|\n",
            "|2031|          51802.49|\n",
            "|2032| 45792.64000000001|\n",
            "|2033|49505.719999999994|\n",
            "|2034|46964.420000000006|\n",
            "|2035| 48686.35999999999|\n",
            "|2036|          53940.63|\n",
            "|2037| 43051.00000000001|\n",
            "|2038|          46690.03|\n",
            "|2039| 47545.85999999999|\n",
            "|2040|          47851.71|\n",
            "|2041|          58909.28|\n",
            "|2042|          53923.63|\n",
            "|2043| 52940.73999999999|\n",
            "+----+------------------+\n",
            "only showing top 20 rows\n",
            "\n"
          ]
        }
      ]
    },
    {
      "cell_type": "code",
      "source": [
        "from pyspark.sql.functions import sum\n",
        "\n",
        "monthly_salary = fact_table.join(dim_periods, \"Period\", \"inner\") \\\n",
        "    .groupBy(\"Month\") \\\n",
        "    .agg(sum(\"Net_Amount\").alias(\"Total_Salary\")) \\\n",
        "    .orderBy(\"Month\")\n",
        "\n",
        "\n",
        "monthly_salary.show()"
      ],
      "metadata": {
        "id": "mF-Dl8568ADy",
        "colab": {
          "base_uri": "https://localhost:8080/"
        },
        "outputId": "abf0594f-142c-4d96-9344-35f48385cf09"
      },
      "execution_count": null,
      "outputs": [
        {
          "output_type": "stream",
          "name": "stdout",
          "text": [
            "+-----+------------------+\n",
            "|Month|      Total_Salary|\n",
            "+-----+------------------+\n",
            "|    1|321798.62000000005|\n",
            "|    2|         342071.49|\n",
            "|    3|         332905.55|\n",
            "|    4|342940.25999999995|\n",
            "|    5|335455.46000000014|\n",
            "|    6|317693.88000000006|\n",
            "|    7|325642.24999999994|\n",
            "|    8|312612.31999999995|\n",
            "|    9|316651.04000000004|\n",
            "|   10|         317713.41|\n",
            "|   11|330688.65999999986|\n",
            "|   12|         321221.61|\n",
            "+-----+------------------+\n",
            "\n"
          ]
        }
      ]
    },
    {
      "cell_type": "code",
      "source": [
        "import matplotlib.pyplot as plt\n",
        "\n",
        "# Преобразование в Pandas DataFrame для визуализации\n",
        "monthly_salary_pd = monthly_salary.toPandas()\n",
        "\n",
        "# Построение линейного графика\n",
        "plt.plot(monthly_salary_pd[\"Month\"], monthly_salary_pd[\"Total_Salary\"], marker='o')\n",
        "plt.title(\"Тренд суммарной зарплаты по месяцам\")\n",
        "plt.xlabel(\"Месяц\")\n",
        "plt.ylabel(\"Суммарная зарплата\")\n",
        "plt.grid()\n",
        "plt.show()"
      ],
      "metadata": {
        "id": "HObw7Z328ypm",
        "colab": {
          "base_uri": "https://localhost:8080/",
          "height": 472
        },
        "outputId": "234b8c04-052c-4129-99ac-a6fb01a9dc9f"
      },
      "execution_count": 86,
      "outputs": [
        {
          "output_type": "display_data",
          "data": {
            "text/plain": [
              "<Figure size 640x480 with 1 Axes>"
            ],
            "image/png": "[encoded data removed]"
          },
          "metadata": {}
        }
      ]
    },
    {
      "cell_type": "markdown",
      "source": [
        "Сколько сотрудников получили бонусы (например, с зарплатой больше среднего по компании):"
      ],
      "metadata": {
        "id": "cq1MR-LfFkpW"
      }
    },
    {
      "cell_type": "code",
      "source": [
        "script = \"\"\"\n",
        "SELECT fact_table.Period, COUNT(*) AS num_employees\n",
        "FROM fact_table\n",
        "JOIN dim_periods ON fact_table.Period = dim_periods.Period\n",
        "WHERE Net_Amount > (SELECT AVG(Net_Amount) FROM fact_table)\n",
        "GROUP BY fact_table.Period;\n",
        "\"\"\"\n",
        "\n",
        "spark.sql(script).show()"
      ],
      "metadata": {
        "id": "PFie1lx0FmSg",
        "colab": {
          "base_uri": "https://localhost:8080/"
        },
        "outputId": "452d93d4-2552-4cf6-98cc-6e85f7e55979"
      },
      "execution_count": null,
      "outputs": [
        {
          "output_type": "stream",
          "name": "stdout",
          "text": [
            "+-------------------+-------------+\n",
            "|             Period|num_employees|\n",
            "+-------------------+-------------+\n",
            "|2044-07-01 00:00:00|            1|\n",
            "|2045-06-01 00:00:00|            1|\n",
            "|2102-10-01 00:00:00|            1|\n",
            "|2105-02-01 00:00:00|            1|\n",
            "|2028-05-01 00:00:00|            1|\n",
            "|2046-05-01 00:00:00|            1|\n",
            "|2087-10-01 00:00:00|            1|\n",
            "|2094-07-01 00:00:00|            1|\n",
            "|2103-03-01 00:00:00|            1|\n",
            "|2026-10-01 00:00:00|            1|\n",
            "|2096-03-01 00:00:00|            1|\n",
            "|2046-12-01 00:00:00|            1|\n",
            "|2070-10-01 00:00:00|            1|\n",
            "|2050-12-01 00:00:00|            1|\n",
            "|2052-02-01 00:00:00|            1|\n",
            "|2042-05-01 00:00:00|            1|\n",
            "|2049-07-01 00:00:00|            1|\n",
            "|2062-12-01 00:00:00|            1|\n",
            "|2066-03-01 00:00:00|            1|\n",
            "|2091-03-01 00:00:00|            1|\n",
            "+-------------------+-------------+\n",
            "only showing top 20 rows\n",
            "\n"
          ]
        }
      ]
    },
    {
      "cell_type": "code",
      "source": [
        "avg_salary = fact_table.agg({\"Net_Amount\": \"avg\"}).collect()[0][0]\n",
        "\n",
        "fact_table.join(dim_periods, \"Period\", \"inner\") \\\n",
        "    .filter(fact_table.Net_Amount > avg_salary) \\\n",
        "    .groupBy(\"Period\") \\\n",
        "    .count() \\\n",
        "    .show()"
      ],
      "metadata": {
        "colab": {
          "base_uri": "https://localhost:8080/"
        },
        "id": "OJUjt1NZHz0F",
        "outputId": "b1334ce2-4316-45d6-9513-221fa9ddeb07"
      },
      "execution_count": null,
      "outputs": [
        {
          "output_type": "stream",
          "name": "stdout",
          "text": [
            "+-------------------+-----+\n",
            "|             Period|count|\n",
            "+-------------------+-----+\n",
            "|2044-07-01 00:00:00|    1|\n",
            "|2045-06-01 00:00:00|    1|\n",
            "|2102-10-01 00:00:00|    1|\n",
            "|2105-02-01 00:00:00|    1|\n",
            "|2028-05-01 00:00:00|    1|\n",
            "|2046-05-01 00:00:00|    1|\n",
            "|2087-10-01 00:00:00|    1|\n",
            "|2094-07-01 00:00:00|    1|\n",
            "|2103-03-01 00:00:00|    1|\n",
            "|2026-10-01 00:00:00|    1|\n",
            "|2096-03-01 00:00:00|    1|\n",
            "|2046-12-01 00:00:00|    1|\n",
            "|2070-10-01 00:00:00|    1|\n",
            "|2050-12-01 00:00:00|    1|\n",
            "|2052-02-01 00:00:00|    1|\n",
            "|2042-05-01 00:00:00|    1|\n",
            "|2049-07-01 00:00:00|    1|\n",
            "|2062-12-01 00:00:00|    1|\n",
            "|2066-03-01 00:00:00|    1|\n",
            "|2091-03-01 00:00:00|    1|\n",
            "+-------------------+-----+\n",
            "only showing top 20 rows\n",
            "\n"
          ]
        }
      ]
    }
  ]
}